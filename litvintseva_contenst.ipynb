{
 "cells": [
  {
   "cell_type": "code",
   "execution_count": 1,
   "metadata": {},
   "outputs": [],
   "source": [
    "import numpy as np\n",
    "import os\n",
    "import pandas as pd\n",
    "\n",
    "import matplotlib.pyplot as plt\n",
    "from PIL import Image"
   ]
  },
  {
   "cell_type": "markdown",
   "metadata": {},
   "source": [
    "# Чтение эмбедингов "
   ]
  },
  {
   "cell_type": "code",
   "execution_count": 2,
   "metadata": {},
   "outputs": [],
   "source": [
    "embeddings_path = 'embeds.npy'\n",
    "data_path = 'test_data/test_data/'\n",
    "targets_path = 'class_mapping.csv'"
   ]
  },
  {
   "cell_type": "code",
   "execution_count": 3,
   "metadata": {},
   "outputs": [],
   "source": [
    "labels = list(os.listdir(data_path))\n",
    "embeds = np.load(embeddings_path)"
   ]
  },
  {
   "cell_type": "code",
   "execution_count": 4,
   "metadata": {},
   "outputs": [],
   "source": [
    "def make_train_test(labels, embeds):\n",
    "    answers = pd.read_csv(targets_path)\n",
    "    ids = answers.Id.to_list()\n",
    "    categories = answers.Category.to_list()\n",
    "    \n",
    "    train, train_ids, targets = [], [], []\n",
    "    test, test_ids = [], []\n",
    "    \n",
    "    for label, embed in zip(labels, embeds):\n",
    "        if label in ids:\n",
    "            cat = categories[ids.index(label)]\n",
    "            train.append(embed)\n",
    "            train_ids.append(label)\n",
    "            targets.append(cat)\n",
    "        else:\n",
    "            test.append(embed)\n",
    "            test_ids.append(label)\n",
    "\n",
    "    return train, train_ids, targets, test, test_ids"
   ]
  },
  {
   "cell_type": "code",
   "execution_count": 5,
   "metadata": {},
   "outputs": [],
   "source": [
    "train, train_ids, targets, test, test_ids = make_train_test(labels, embeds)"
   ]
  },
  {
   "cell_type": "code",
   "execution_count": 6,
   "metadata": {},
   "outputs": [],
   "source": [
    "train = np.array(train).reshape((-1, 512))\n",
    "test = np.array(test).reshape((-1, 512))\n",
    "targets = np.array(targets)\n",
    "test_ids = np.array(test_ids)"
   ]
  },
  {
   "cell_type": "markdown",
   "metadata": {},
   "source": [
    "## Submit"
   ]
  },
  {
   "cell_type": "code",
   "execution_count": 7,
   "metadata": {},
   "outputs": [],
   "source": [
    "def make_submission(train, test, targets, preds):\n",
    "    ans_ids = []\n",
    "    ans_cats = []\n",
    "\n",
    "    for label, ans in zip(train, targets):\n",
    "        ans_ids.append(label)\n",
    "        ans_cats.append(ans)\n",
    "\n",
    "    for label, ans in zip(test, preds):\n",
    "        ans_ids.append(label)\n",
    "        ans_cats.append(ans)\n",
    "        \n",
    "    return pd.DataFrame(data=zip(ans_ids, ans_cats), columns=['Id', 'random'])"
   ]
  },
  {
   "cell_type": "markdown",
   "metadata": {},
   "source": [
    "# Модели"
   ]
  },
  {
   "cell_type": "markdown",
   "metadata": {},
   "source": [
    "## Просто Knn"
   ]
  },
  {
   "cell_type": "code",
   "execution_count": 8,
   "metadata": {},
   "outputs": [],
   "source": [
    "from sklearn.neighbors import NearestNeighbors"
   ]
  },
  {
   "cell_type": "code",
   "execution_count": 9,
   "metadata": {},
   "outputs": [
    {
     "data": {
      "text/plain": [
       "NearestNeighbors(algorithm='auto', leaf_size=30, metric='l2',\n",
       "                 metric_params=None, n_jobs=None, n_neighbors=1, p=2,\n",
       "                 radius=1.0)"
      ]
     },
     "execution_count": 9,
     "metadata": {},
     "output_type": "execute_result"
    }
   ],
   "source": [
    "neigh = NearestNeighbors(n_neighbors=1, metric='l2')\n",
    "neigh.fit(train, targets)"
   ]
  },
  {
   "cell_type": "code",
   "execution_count": 10,
   "metadata": {},
   "outputs": [],
   "source": [
    "preds_idx = neigh.kneighbors(test, return_distance=False).flatten()"
   ]
  },
  {
   "cell_type": "code",
   "execution_count": 11,
   "metadata": {},
   "outputs": [],
   "source": [
    "preds = targets[preds_idx]"
   ]
  },
  {
   "cell_type": "code",
   "execution_count": 12,
   "metadata": {},
   "outputs": [],
   "source": [
    "df = make_submission(train_ids, test_ids, targets, preds)"
   ]
  },
  {
   "cell_type": "markdown",
   "metadata": {},
   "source": [
    "## Финальный результат:"
   ]
  },
  {
   "cell_type": "code",
   "execution_count": 13,
   "metadata": {},
   "outputs": [],
   "source": [
    "df.to_csv('simple_knn_l2.csv', index=False)"
   ]
  },
  {
   "cell_type": "markdown",
   "metadata": {},
   "source": [
    "## Добавляем трейн (не сработало, очень плохо!)"
   ]
  },
  {
   "cell_type": "code",
   "execution_count": 14,
   "metadata": {
    "scrolled": true
   },
   "outputs": [
    {
     "data": {
      "text/plain": [
       "NearestNeighbors(algorithm='auto', leaf_size=30, metric='cosine',\n",
       "                 metric_params=None, n_jobs=None, n_neighbors=1, p=2,\n",
       "                 radius=1.0)"
      ]
     },
     "execution_count": 14,
     "metadata": {},
     "output_type": "execute_result"
    }
   ],
   "source": [
    "neigh = NearestNeighbors(n_neighbors=1, metric='cosine')\n",
    "neigh.fit(train, targets)"
   ]
  },
  {
   "cell_type": "code",
   "execution_count": 15,
   "metadata": {},
   "outputs": [],
   "source": [
    "distance, preds_idx = neigh.kneighbors(test, return_distance=True)"
   ]
  },
  {
   "cell_type": "code",
   "execution_count": 16,
   "metadata": {},
   "outputs": [],
   "source": [
    "distance = distance.flatten()\n",
    "preds_idx = preds_idx.flatten()"
   ]
  },
  {
   "cell_type": "markdown",
   "metadata": {},
   "source": [
    "percentiles = [10, 20, 50, 80, 90]\n",
    "\n",
    "for idx in set(preds_idx):\n",
    "    thresholds = []\n",
    "    for p in percentiles:\n",
    "        mask = preds_idx == idx\n",
    "        threshold = np.percentile(distance[mask], p)\n",
    "        thresholds.append(threshold)\n",
    "    plt.title(f'{idx}')\n",
    "    plt.plot(percentiles, thresholds)\n",
    "    plt.show()"
   ]
  },
  {
   "cell_type": "code",
   "execution_count": 17,
   "metadata": {},
   "outputs": [],
   "source": [
    "percentile = 2\n",
    "\n",
    "additional_train_path = []\n",
    "additional_train = []\n",
    "additional_targets = []\n",
    "\n",
    "new_test_ids = []\n",
    "new_test = []\n",
    "\n",
    "for idx in set(targets[preds_idx]):\n",
    "    mask = targets[preds_idx] == idx\n",
    "    threshold = np.percentile(distance[mask], percentile)\n",
    "#     print(np.min(distance[mask]), np.max(distance[mask]), threshold)\n",
    "    threshold = 0.1\n",
    "    confident = distance[mask] <= threshold\n",
    "#     print(sum(confident))\n",
    "    \n",
    "    additional_train_path.extend(test_ids[mask][confident])\n",
    "    additional_train.extend(test[mask][confident])\n",
    "    additional_targets.extend([idx]*sum(confident))\n",
    "    \n",
    "    new_test_ids.extend(test_ids[mask][~confident])\n",
    "    new_test.extend(test[mask][~confident])"
   ]
  },
  {
   "cell_type": "code",
   "execution_count": 18,
   "metadata": {},
   "outputs": [],
   "source": [
    "new_train = np.concatenate((train, np.array(additional_train)))\n",
    "new_train_ids = np.concatenate((train_ids, np.array(additional_train_path)))\n",
    "new_targets = np.concatenate((targets, np.array(additional_targets)))"
   ]
  },
  {
   "cell_type": "code",
   "execution_count": 19,
   "metadata": {},
   "outputs": [],
   "source": [
    "from sklearn.neighbors import KNeighborsClassifier"
   ]
  },
  {
   "cell_type": "code",
   "execution_count": 20,
   "metadata": {
    "scrolled": true
   },
   "outputs": [
    {
     "data": {
      "text/plain": [
       "KNeighborsClassifier(algorithm='auto', leaf_size=30, metric='l2',\n",
       "                     metric_params=None, n_jobs=None, n_neighbors=7, p=2,\n",
       "                     weights='uniform')"
      ]
     },
     "execution_count": 20,
     "metadata": {},
     "output_type": "execute_result"
    }
   ],
   "source": [
    "knn = KNeighborsClassifier(n_neighbors=7, metric='l2')\n",
    "knn.fit(new_train, new_targets)"
   ]
  },
  {
   "cell_type": "code",
   "execution_count": null,
   "metadata": {},
   "outputs": [],
   "source": [
    "new_preds_idx = knn.predict(new_test)"
   ]
  },
  {
   "cell_type": "code",
   "execution_count": null,
   "metadata": {},
   "outputs": [],
   "source": [
    "new_preds = new_targets[new_preds_idx]"
   ]
  },
  {
   "cell_type": "code",
   "execution_count": null,
   "metadata": {},
   "outputs": [],
   "source": [
    "df = make_submission(new_train_ids, new_test_ids, new_targets, new_preds)"
   ]
  },
  {
   "cell_type": "code",
   "execution_count": null,
   "metadata": {},
   "outputs": [],
   "source": [
    "df.to_csv('clever_submission.csv', index=False)\n",
    "# вышло хуже всего"
   ]
  },
  {
   "cell_type": "code",
   "execution_count": null,
   "metadata": {},
   "outputs": [],
   "source": []
  }
 ],
 "metadata": {
  "kernelspec": {
   "display_name": "Python 3",
   "language": "python",
   "name": "python3"
  },
  "language_info": {
   "codemirror_mode": {
    "name": "ipython",
    "version": 3
   },
   "file_extension": ".py",
   "mimetype": "text/x-python",
   "name": "python",
   "nbconvert_exporter": "python",
   "pygments_lexer": "ipython3",
   "version": "3.8.0"
  }
 },
 "nbformat": 4,
 "nbformat_minor": 2
}
